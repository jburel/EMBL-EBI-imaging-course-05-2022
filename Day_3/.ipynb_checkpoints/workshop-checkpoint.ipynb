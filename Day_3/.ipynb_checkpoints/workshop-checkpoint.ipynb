{
 "cells": [
  {
   "cell_type": "markdown",
   "id": "55bdfddd",
   "metadata": {},
   "source": [
    "## Distributed/Cloud computing "
   ]
  },
  {
   "cell_type": "markdown",
   "id": "75aac02a",
   "metadata": {},
   "source": [
    "### Summary \n",
    "* Software versions\n",
    "* What is Zarr\n",
    "* What is Dask"
   ]
  },
  {
   "cell_type": "markdown",
   "id": "ea80c2d7",
   "metadata": {},
   "source": [
    "### Software versions used for this workshop\n",
    "\n",
    "#### To run\n",
    "* jupyter\n",
    "* conda\n",
    "\n",
    "#### Core tools\n",
    "* dask\n",
    "* distributed\n",
    "\n",
    "#### Other\n",
    "\n"
   ]
  },
  {
   "cell_type": "markdown",
   "id": "fbf46e07",
   "metadata": {},
   "source": [
    "### What is Zarr"
   ]
  },
  {
   "cell_type": "code",
   "execution_count": null,
   "id": "65f2ff35",
   "metadata": {},
   "outputs": [],
   "source": []
  }
 ],
 "metadata": {
  "kernelspec": {
   "display_name": "imaging_course",
   "language": "python",
   "name": "imaging_course"
  },
  "language_info": {
   "codemirror_mode": {
    "name": "ipython",
    "version": 3
   },
   "file_extension": ".py",
   "mimetype": "text/x-python",
   "name": "python",
   "nbconvert_exporter": "python",
   "pygments_lexer": "ipython3",
   "version": "3.9.12"
  }
 },
 "nbformat": 4,
 "nbformat_minor": 5
}
