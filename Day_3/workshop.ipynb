{
 "cells": [
  {
   "cell_type": "markdown",
   "id": "55bdfddd",
   "metadata": {},
   "source": [
    "## Distributed/Cloud computing "
   ]
  },
  {
   "cell_type": "markdown",
   "id": "75aac02a",
   "metadata": {},
   "source": [
    "### Outline \n",
    "* Basics\n",
    "* What is Dask\n",
    "* What is Zarr\n"
   ]
  },
  {
   "cell_type": "markdown",
   "id": "ea80c2d7",
   "metadata": {},
   "source": [
    "### Software versions used for this workshop\n",
    "\n",
    "#### To run\n",
    "* jupyter\n",
    "* conda\n",
    "\n",
    "#### Core tools\n",
    "* dask\n",
    "* distributed\n",
    "\n",
    "#### Other\n",
    " - pandas\n",
    " - tensorflow\n",
    " - ome-zarr\n",
    " - dask-image\n",
    " - stardist==0.8.1\n",
    " - geojson"
   ]
  },
  {
   "cell_type": "markdown",
   "id": "fbf46e07",
   "metadata": {},
   "source": [
    "### What is Dask\n",
    "\n",
    "* [Dask](https://dask.org/) is a free and open-source parallel computing library that scales the existing Python ecosystem.\n",
    "* Dask helps you scale your data science and machine learning workflows. \n",
    "* Dask makes it easy to work with Numpy, pandas, and Scikit-Learn etc.\n",
    "* Dask is a framework to build distributed applications.\n",
    "* Dask can scale down to your laptop and up to a cluster. We will use today on an environment you can set up on your computer.\n",
    "\n",
    "\n",
    "Dask can be split into **two components**:\n",
    "\n",
    "* **Collections**:  \n",
    "\n",
    "Dask provides high-level Array, Bag, and DataFrame collections that mimic NumPy, lists, and Pandas. The advantage is that in can run in parallel on data that cannot fit in memory.\n",
    "* **Schedulers**:\n",
    "\n",
    "Dask provides schedulers to run the tasks in parallel\n",
    "\n"
   ]
  },
  {
   "cell_type": "code",
   "execution_count": null,
   "id": "65f2ff35",
   "metadata": {},
   "outputs": [],
   "source": []
  }
 ],
 "metadata": {
  "kernelspec": {
   "display_name": "imaging_course",
   "language": "python",
   "name": "imaging_course"
  },
  "language_info": {
   "codemirror_mode": {
    "name": "ipython",
    "version": 3
   },
   "file_extension": ".py",
   "mimetype": "text/x-python",
   "name": "python",
   "nbconvert_exporter": "python",
   "pygments_lexer": "ipython3",
   "version": "3.9.12"
  }
 },
 "nbformat": 4,
 "nbformat_minor": 5
}
