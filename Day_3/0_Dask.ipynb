{
 "cells": [
  {
   "cell_type": "markdown",
   "id": "2539f3ab",
   "metadata": {},
   "source": [
    "# What is Dask\n",
    "\n",
    "* [Dask](https://dask.org/) is a free and open-source parallel computing library that scales the existing Python ecosystem.\n",
    "* Dask helps you scale your data science and machine learning workflows. \n",
    "* Dask makes it easy to work with Numpy, pandas, and Scikit-Learn etc.\n",
    "* Dask is a framework to build distributed applications.\n",
    "* Dask can scale down to your laptop and up to a cluster. We will use today on an environment you can set up on your computer.\n",
    "\n",
    "\n",
    "Dask can be split into **two components**:\n",
    "\n",
    "* **Collections**:  \n",
    "\n",
    "Dask provides high-level Array, Bag, and DataFrame collections that mimic NumPy, lists, and Pandas. The advantage is that in can run in parallel on data that cannot fit in memory.\n",
    "* **Schedulers**:\n",
    "\n",
    "Dask provides schedulers to run the tasks in parallel"
   ]
  },
  {
   "cell_type": "markdown",
   "id": "0f726c7e",
   "metadata": {},
   "source": [
    "## Examples\n",
    "We will go over some concepts of Dask that we will need today."
   ]
  },
  {
   "cell_type": "markdown",
   "id": "fd3f66d0",
   "metadata": {},
   "source": [
    "### Dask Array\n",
    "\n",
    "Dask arrays combine many [NumPy](https://numpy.org/) arrays, arranged into chunks within a grid"
   ]
  },
  {
   "cell_type": "markdown",
   "id": "6c8efbba",
   "metadata": {},
   "source": [
    "Create an array of numbers represented by several NumPy arrays of size 10x10 (the arrays will be smaller if they cannot be divided evenly)."
   ]
  },
  {
   "cell_type": "code",
   "execution_count": 1,
   "id": "d93f2200",
   "metadata": {},
   "outputs": [
    {
     "data": {
      "text/html": [
       "<table>\n",
       "    <tr>\n",
       "        <td>\n",
       "            <table>\n",
       "                <thead>\n",
       "                    <tr>\n",
       "                        <td> </td>\n",
       "                        <th> Array </th>\n",
       "                        <th> Chunk </th>\n",
       "                    </tr>\n",
       "                </thead>\n",
       "                <tbody>\n",
       "                    \n",
       "                    <tr>\n",
       "                        <th> Bytes </th>\n",
       "                        <td> 78.12 kiB </td>\n",
       "                        <td> 800 B </td>\n",
       "                    </tr>\n",
       "                    \n",
       "                    <tr>\n",
       "                        <th> Shape </th>\n",
       "                        <td> (100, 100) </td>\n",
       "                        <td> (10, 10) </td>\n",
       "                    </tr>\n",
       "                    <tr>\n",
       "                        <th> Count </th>\n",
       "                        <td> 100 Tasks </td>\n",
       "                        <td> 100 Chunks </td>\n",
       "                    </tr>\n",
       "                    <tr>\n",
       "                    <th> Type </th>\n",
       "                    <td> float64 </td>\n",
       "                    <td> numpy.ndarray </td>\n",
       "                    </tr>\n",
       "                </tbody>\n",
       "            </table>\n",
       "        </td>\n",
       "        <td>\n",
       "        <svg width=\"170\" height=\"170\" style=\"stroke:rgb(0,0,0);stroke-width:1\" >\n",
       "\n",
       "  <!-- Horizontal lines -->\n",
       "  <line x1=\"0\" y1=\"0\" x2=\"120\" y2=\"0\" style=\"stroke-width:2\" />\n",
       "  <line x1=\"0\" y1=\"12\" x2=\"120\" y2=\"12\" />\n",
       "  <line x1=\"0\" y1=\"24\" x2=\"120\" y2=\"24\" />\n",
       "  <line x1=\"0\" y1=\"36\" x2=\"120\" y2=\"36\" />\n",
       "  <line x1=\"0\" y1=\"48\" x2=\"120\" y2=\"48\" />\n",
       "  <line x1=\"0\" y1=\"60\" x2=\"120\" y2=\"60\" />\n",
       "  <line x1=\"0\" y1=\"72\" x2=\"120\" y2=\"72\" />\n",
       "  <line x1=\"0\" y1=\"84\" x2=\"120\" y2=\"84\" />\n",
       "  <line x1=\"0\" y1=\"96\" x2=\"120\" y2=\"96\" />\n",
       "  <line x1=\"0\" y1=\"108\" x2=\"120\" y2=\"108\" />\n",
       "  <line x1=\"0\" y1=\"120\" x2=\"120\" y2=\"120\" style=\"stroke-width:2\" />\n",
       "\n",
       "  <!-- Vertical lines -->\n",
       "  <line x1=\"0\" y1=\"0\" x2=\"0\" y2=\"120\" style=\"stroke-width:2\" />\n",
       "  <line x1=\"12\" y1=\"0\" x2=\"12\" y2=\"120\" />\n",
       "  <line x1=\"24\" y1=\"0\" x2=\"24\" y2=\"120\" />\n",
       "  <line x1=\"36\" y1=\"0\" x2=\"36\" y2=\"120\" />\n",
       "  <line x1=\"48\" y1=\"0\" x2=\"48\" y2=\"120\" />\n",
       "  <line x1=\"60\" y1=\"0\" x2=\"60\" y2=\"120\" />\n",
       "  <line x1=\"72\" y1=\"0\" x2=\"72\" y2=\"120\" />\n",
       "  <line x1=\"84\" y1=\"0\" x2=\"84\" y2=\"120\" />\n",
       "  <line x1=\"96\" y1=\"0\" x2=\"96\" y2=\"120\" />\n",
       "  <line x1=\"108\" y1=\"0\" x2=\"108\" y2=\"120\" />\n",
       "  <line x1=\"120\" y1=\"0\" x2=\"120\" y2=\"120\" style=\"stroke-width:2\" />\n",
       "\n",
       "  <!-- Colored Rectangle -->\n",
       "  <polygon points=\"0.0,0.0 120.0,0.0 120.0,120.0 0.0,120.0\" style=\"fill:#ECB172A0;stroke-width:0\"/>\n",
       "\n",
       "  <!-- Text -->\n",
       "  <text x=\"60.000000\" y=\"140.000000\" font-size=\"1.0rem\" font-weight=\"100\" text-anchor=\"middle\" >100</text>\n",
       "  <text x=\"140.000000\" y=\"60.000000\" font-size=\"1.0rem\" font-weight=\"100\" text-anchor=\"middle\" transform=\"rotate(-90,140.000000,60.000000)\">100</text>\n",
       "</svg>\n",
       "        </td>\n",
       "    </tr>\n",
       "</table>"
      ],
      "text/plain": [
       "dask.array<random_sample, shape=(100, 100), dtype=float64, chunksize=(10, 10), chunktype=numpy.ndarray>"
      ]
     },
     "execution_count": 1,
     "metadata": {},
     "output_type": "execute_result"
    }
   ],
   "source": [
    "import dask.array as da\n",
    "x = da.random.random((100, 100), chunks=(10, 10))\n",
    "x"
   ]
  },
  {
   "cell_type": "markdown",
   "id": "f3e3a50b",
   "metadata": {},
   "source": [
    "Use NumPy syntax for operation"
   ]
  },
  {
   "cell_type": "code",
   "execution_count": 2,
   "id": "c617c061",
   "metadata": {},
   "outputs": [
    {
     "data": {
      "text/html": [
       "<table>\n",
       "    <tr>\n",
       "        <td>\n",
       "            <table>\n",
       "                <thead>\n",
       "                    <tr>\n",
       "                        <td> </td>\n",
       "                        <th> Array </th>\n",
       "                        <th> Chunk </th>\n",
       "                    </tr>\n",
       "                </thead>\n",
       "                <tbody>\n",
       "                    \n",
       "                    <tr>\n",
       "                        <th> Bytes </th>\n",
       "                        <td> 400 B </td>\n",
       "                        <td> 40 B </td>\n",
       "                    </tr>\n",
       "                    \n",
       "                    <tr>\n",
       "                        <th> Shape </th>\n",
       "                        <td> (50,) </td>\n",
       "                        <td> (5,) </td>\n",
       "                    </tr>\n",
       "                    <tr>\n",
       "                        <th> Count </th>\n",
       "                        <td> 430 Tasks </td>\n",
       "                        <td> 10 Chunks </td>\n",
       "                    </tr>\n",
       "                    <tr>\n",
       "                    <th> Type </th>\n",
       "                    <td> float64 </td>\n",
       "                    <td> numpy.ndarray </td>\n",
       "                    </tr>\n",
       "                </tbody>\n",
       "            </table>\n",
       "        </td>\n",
       "        <td>\n",
       "        <svg width=\"170\" height=\"79\" style=\"stroke:rgb(0,0,0);stroke-width:1\" >\n",
       "\n",
       "  <!-- Horizontal lines -->\n",
       "  <line x1=\"0\" y1=\"0\" x2=\"120\" y2=\"0\" style=\"stroke-width:2\" />\n",
       "  <line x1=\"0\" y1=\"29\" x2=\"120\" y2=\"29\" style=\"stroke-width:2\" />\n",
       "\n",
       "  <!-- Vertical lines -->\n",
       "  <line x1=\"0\" y1=\"0\" x2=\"0\" y2=\"29\" style=\"stroke-width:2\" />\n",
       "  <line x1=\"12\" y1=\"0\" x2=\"12\" y2=\"29\" />\n",
       "  <line x1=\"24\" y1=\"0\" x2=\"24\" y2=\"29\" />\n",
       "  <line x1=\"36\" y1=\"0\" x2=\"36\" y2=\"29\" />\n",
       "  <line x1=\"48\" y1=\"0\" x2=\"48\" y2=\"29\" />\n",
       "  <line x1=\"60\" y1=\"0\" x2=\"60\" y2=\"29\" />\n",
       "  <line x1=\"72\" y1=\"0\" x2=\"72\" y2=\"29\" />\n",
       "  <line x1=\"84\" y1=\"0\" x2=\"84\" y2=\"29\" />\n",
       "  <line x1=\"96\" y1=\"0\" x2=\"96\" y2=\"29\" />\n",
       "  <line x1=\"108\" y1=\"0\" x2=\"108\" y2=\"29\" />\n",
       "  <line x1=\"120\" y1=\"0\" x2=\"120\" y2=\"29\" style=\"stroke-width:2\" />\n",
       "\n",
       "  <!-- Colored Rectangle -->\n",
       "  <polygon points=\"0.0,0.0 120.0,0.0 120.0,29.030629010473877 0.0,29.030629010473877\" style=\"fill:#ECB172A0;stroke-width:0\"/>\n",
       "\n",
       "  <!-- Text -->\n",
       "  <text x=\"60.000000\" y=\"49.030629\" font-size=\"1.0rem\" font-weight=\"100\" text-anchor=\"middle\" >50</text>\n",
       "  <text x=\"140.000000\" y=\"14.515315\" font-size=\"1.0rem\" font-weight=\"100\" text-anchor=\"middle\" transform=\"rotate(0,140.000000,14.515315)\">1</text>\n",
       "</svg>\n",
       "        </td>\n",
       "    </tr>\n",
       "</table>"
      ],
      "text/plain": [
       "dask.array<mean_agg-aggregate, shape=(50,), dtype=float64, chunksize=(5,), chunktype=numpy.ndarray>"
      ]
     },
     "execution_count": 2,
     "metadata": {},
     "output_type": "execute_result"
    }
   ],
   "source": [
    "y = x + x.T\n",
    "z = y[::2, 50:].mean(axis=1)\n",
    "z"
   ]
  },
  {
   "cell_type": "markdown",
   "id": "37c16d0d",
   "metadata": {},
   "source": [
    "To get the result as a NumPy array"
   ]
  },
  {
   "cell_type": "code",
   "execution_count": 3,
   "id": "22d99141",
   "metadata": {},
   "outputs": [
    {
     "data": {
      "text/plain": [
       "array([0.9955181 , 0.99849852, 0.82484775, 0.9289099 , 0.95525755,\n",
       "       0.93982408, 1.00611189, 1.02421825, 1.0200419 , 0.98427177,\n",
       "       0.98806315, 1.01754908, 1.03501315, 1.03424154, 0.9587375 ,\n",
       "       0.93308796, 0.97090667, 1.08354844, 0.97808345, 1.1326681 ,\n",
       "       0.92900706, 1.05189586, 0.91982236, 1.00712223, 0.93648723,\n",
       "       0.9545439 , 1.08825738, 1.03141199, 0.98694143, 1.11813931,\n",
       "       1.01205872, 1.07404602, 1.05633192, 0.96106003, 1.04912675,\n",
       "       0.99491119, 0.91234236, 1.04380034, 1.17263988, 0.98348018,\n",
       "       0.98822848, 0.94419134, 0.96293702, 1.07468751, 1.1075791 ,\n",
       "       1.0076852 , 1.04794827, 0.98455103, 1.00013889, 1.00165424])"
      ]
     },
     "execution_count": 3,
     "metadata": {},
     "output_type": "execute_result"
    }
   ],
   "source": [
    "z.compute()"
   ]
  },
  {
   "cell_type": "markdown",
   "id": "6a5fa2cf",
   "metadata": {},
   "source": [
    "Depending on the available RAM, you can persist data in memory to speed up further computation"
   ]
  },
  {
   "cell_type": "code",
   "execution_count": null,
   "id": "79b627d3",
   "metadata": {},
   "outputs": [],
   "source": [
    "y = y.persist()"
   ]
  },
  {
   "cell_type": "markdown",
   "id": "a37df3a9",
   "metadata": {},
   "source": [
    "To find the time it takes to perform an operation "
   ]
  },
  {
   "cell_type": "code",
   "execution_count": 4,
   "id": "b58c8e0a",
   "metadata": {},
   "outputs": [
    {
     "name": "stdout",
     "output_type": "stream",
     "text": [
      "CPU times: user 65.9 ms, sys: 17 ms, total: 82.9 ms\n",
      "Wall time: 81.3 ms\n"
     ]
    },
    {
     "data": {
      "text/plain": [
       "10070.477327750283"
      ]
     },
     "execution_count": 4,
     "metadata": {},
     "output_type": "execute_result"
    }
   ],
   "source": [
    "%time y.sum().compute()"
   ]
  },
  {
   "cell_type": "markdown",
   "id": "868d2a29",
   "metadata": {},
   "source": [
    "## Dask Delayed \n",
    "\n",
    "``for`` loops are a common part to parallelize e.g. iterate over all the 2D-planes of a Z-stack.\n",
    "\n",
    "Below we show how to parallelize sequential incrementation of each value using ``dask.delayed``."
   ]
  },
  {
   "cell_type": "code",
   "execution_count": 25,
   "id": "ece827e5",
   "metadata": {},
   "outputs": [],
   "source": [
    "data = [1, 2, 3, 4, 5, 6, 7, 8]"
   ]
  },
  {
   "cell_type": "code",
   "execution_count": 26,
   "id": "492c4d10",
   "metadata": {},
   "outputs": [],
   "source": [
    "from time import sleep\n",
    "\n",
    "def increment(x):\n",
    "    sleep(1)\n",
    "    return x + 1"
   ]
  },
  {
   "cell_type": "code",
   "execution_count": 37,
   "id": "928b3f83",
   "metadata": {},
   "outputs": [
    {
     "name": "stdout",
     "output_type": "stream",
     "text": [
      "Compute: 44\n"
     ]
    }
   ],
   "source": [
    "# Usual way of running\n",
    "results = []\n",
    "for x in data:\n",
    "    y = increment(x)\n",
    "    results.append(y)\n",
    "    \n",
    "total = sum(results)\n",
    "\n",
    "print(\"Compute:\", total) "
   ]
  },
  {
   "cell_type": "markdown",
   "id": "ffa9fb59",
   "metadata": {},
   "source": [
    "We will \"transform\" our function to use ``dask.delayed``. \n",
    "The code below will finish **very quickly**. It will record what we want to compute as a task into a graph that will run later on parallel hardware."
   ]
  },
  {
   "cell_type": "code",
   "execution_count": 32,
   "id": "8b8e72a2",
   "metadata": {},
   "outputs": [],
   "source": [
    "from dask import delayed"
   ]
  },
  {
   "cell_type": "code",
   "execution_count": 33,
   "id": "5142853a",
   "metadata": {},
   "outputs": [
    {
     "name": "stdout",
     "output_type": "stream",
     "text": [
      "Before computing: Delayed('sum-367bf53b-0caf-4aff-b76a-82bb052eba9f')\n"
     ]
    }
   ],
   "source": [
    "# No computation happens\n",
    "results = []\n",
    "\n",
    "for x in data:\n",
    "    y = delayed(increment)(x)\n",
    "    results.append(y)\n",
    "    \n",
    "total = delayed(sum)(results)\n",
    "print(\"Before computing:\", total) "
   ]
  },
  {
   "cell_type": "markdown",
   "id": "dceda569",
   "metadata": {},
   "source": [
    "To get the result, we need to invoke the ``compute`` method."
   ]
  },
  {
   "cell_type": "code",
   "execution_count": 34,
   "id": "65a8f990",
   "metadata": {},
   "outputs": [
    {
     "name": "stdout",
     "output_type": "stream",
     "text": [
      "After computing : 44\n"
     ]
    }
   ],
   "source": [
    "result = total.compute()\n",
    "print(\"After computing :\", result)  # After it's computed"
   ]
  },
  {
   "cell_type": "markdown",
   "id": "d1dd5624",
   "metadata": {},
   "source": [
    "There are a few tricks with ``dask.delayed``. Please check [dask.delayed best practises](https://docs.dask.org/en/latest/delayed-best-practices.html)"
   ]
  },
  {
   "cell_type": "markdown",
   "id": "44972e84",
   "metadata": {},
   "source": [
    "### Dask cluster \n",
    "\n",
    "Your computer will have multiple cores e.g. 4. When writing regular Python code, you are probably only using 1 of them. If you are using Numpy, e.g. for matrix multiplication, you will be using multiple cores because Numpy knows how to it but general Python code doesn't.\n",
    "\n",
    "Dask cluster allows you to use multiple cores on your computer.\n",
    "Dask has also a dashboard that you can use to monitor your work.\n",
    "\n",
    "This time we will use a local cluster to increment each value in the ``data`` array define above."
   ]
  },
  {
   "cell_type": "code",
   "execution_count": 41,
   "id": "233af74b",
   "metadata": {},
   "outputs": [],
   "source": [
    "def prepare_call(client):\n",
    "    futures = []\n",
    "    for x in data:\n",
    "        y = client.submit(increment, x)\n",
    "        futures.append(y)\n",
    "    return futures"
   ]
  },
  {
   "cell_type": "markdown",
   "id": "3cad29a0",
   "metadata": {},
   "source": [
    "Create a local cluster"
   ]
  },
  {
   "cell_type": "code",
   "execution_count": 42,
   "id": "796cf1b6",
   "metadata": {},
   "outputs": [],
   "source": [
    "from dask.distributed import Client, LocalCluster"
   ]
  },
  {
   "cell_type": "code",
   "execution_count": 43,
   "id": "f9c74fb5",
   "metadata": {},
   "outputs": [
    {
     "name": "stdout",
     "output_type": "stream",
     "text": [
      "[2, 3, 4, 5, 6, 7, 8, 9]\n"
     ]
    }
   ],
   "source": [
    "# if you want to specify number of workers etc.\n",
    "cluster = LocalCluster(n_workers=2, processes=True, threads_per_worker=1)\n",
    "# or simply \n",
    "# custer = LocalCluster()\n",
    "with Client(cluster) as client:\n",
    "    # perform code\n",
    "    futures = prepare_call(client)\n",
    "    results = client.gather(futures)\n",
    "\n",
    "print(results)"
   ]
  },
  {
   "cell_type": "markdown",
   "id": "3993e299",
   "metadata": {},
   "source": [
    "### License (BSD 2-Clause)\n",
    "Copyright (C) 2022 University of Dundee. All Rights Reserved.\n",
    "\n",
    "Redistribution and use in source and binary forms, with or without modification, are permitted provided that the following conditions are met:\n",
    "\n",
    "Redistributions of source code must retain the above copyright notice, this list of conditions and the following disclaimer.\n",
    "Redistributions in binary form must reproduce the above copyright notice, this list of conditions and the following disclaimer in the documentation and/or other materials provided with the distribution.\n",
    "THIS SOFTWARE IS PROVIDED BY THE COPYRIGHT HOLDERS AND CONTRIBUTORS \"AS IS\" AND ANY EXPRESS OR IMPLIED WARRANTIES, INCLUDING, BUT NOT LIMITED TO, THE IMPLIED WARRANTIES OF MERCHANTABILITY AND FITNESS FOR A PARTICULAR PURPOSE ARE DISCLAIMED. IN NO EVENT SHALL THE COPYRIGHT OWNER OR CONTRIBUTORS BE LIABLE FOR ANY DIRECT, INDIRECT, INCIDENTAL, SPECIAL, EXEMPLARY, OR CONSEQUENTIAL DAMAGES (INCLUDING, BUT NOT LIMITED TO, PROCUREMENT OF SUBSTITUTE GOODS OR SERVICES; LOSS OF USE, DATA, OR PROFITS; OR BUSINESS INTERRUPTION) HOWEVER CAUSED AND ON ANY THEORY OF LIABILITY, WHETHER IN CONTRACT, STRICT LIABILITY, OR TORT (INCLUDING NEGLIGENCE OR OTHERWISE) ARISING IN ANY WAY OUT OF THE USE OF THIS SOFTWARE, EVEN IF ADVISED OF THE POSSIBILITY OF SUCH DAMAGE."
   ]
  }
 ],
 "metadata": {
  "kernelspec": {
   "display_name": "imaging_course",
   "language": "python",
   "name": "imaging_course"
  },
  "language_info": {
   "codemirror_mode": {
    "name": "ipython",
    "version": 3
   },
   "file_extension": ".py",
   "mimetype": "text/x-python",
   "name": "python",
   "nbconvert_exporter": "python",
   "pygments_lexer": "ipython3",
   "version": "3.9.12"
  }
 },
 "nbformat": 4,
 "nbformat_minor": 5
}
